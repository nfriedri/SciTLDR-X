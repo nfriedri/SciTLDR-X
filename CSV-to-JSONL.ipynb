{
 "cells": [
  {
   "cell_type": "markdown",
   "id": "24c09218",
   "metadata": {},
   "source": [
    "### Generate JSONL files from CSV files with original TLDR format\n",
    "Original TLDR format: Contains a list of target tldrs per sample for test and dev/valid sets"
   ]
  },
  {
   "cell_type": "code",
   "execution_count": 1,
   "id": "53f16f66",
   "metadata": {},
   "outputs": [],
   "source": [
    "# Imports\n",
    "import os\n",
    "import json\n",
    "import pandas as pd"
   ]
  },
  {
   "cell_type": "code",
   "execution_count": 2,
   "id": "cd04cd7c",
   "metadata": {},
   "outputs": [],
   "source": [
    "# Read in csv data\n",
    "\n",
    "def read_csv_file(file_name):\n",
    "    data = pd.read_csv(file_name, encoding=\"utf-8\")\n",
    "    return data.to_dict()\n",
    "\n",
    "def read_jsonl_files(file_name):\n",
    "    data = []\n",
    "    file = open(file_name, \"r\", encoding=\"utf-8\")\n",
    "    lines = file.readlines()\n",
    "    for line in lines:\n",
    "        data.append(json.loads(line))\n",
    "    return data\n",
    "\n",
    "def generate_jsonl(json_data, csv_data, output_file):\n",
    "    data = []\n",
    "    for i in range(len(json_data)):\n",
    "        content = {}\n",
    "        content[\"source\"] = json_data[i][\"source\"]\n",
    "        content[\"source_labels\"] = json_data[i][\"source_labels\"] #str() ?\n",
    "        content[\"rouge_scores\"] = []\n",
    "        content[\"paper_id\"] = json_data[i][\"paper_id\"]\n",
    "        target = []\n",
    "        for j in range(len(csv_data[\"paper_id\"])):\n",
    "            if (json_data[i][\"paper_id\"] == csv_data[\"paper_id\"][j]):\n",
    "                target.append(csv_data[\"target\"][j])\n",
    "        content[\"target\"] = target\n",
    "        data.append(content)\n",
    "    file = open(f\"{output_file}.jsonl\", \"w\", encoding=\"utf-8\")\n",
    "    for ele in data:\n",
    "        file.write(str(json.dumps(ele)) + \"\\n\")\n",
    "    file.close()\n",
    "    "
   ]
  },
  {
   "cell_type": "code",
   "execution_count": 3,
   "id": "80110eef",
   "metadata": {},
   "outputs": [],
   "source": [
    "###"
   ]
  },
  {
   "cell_type": "code",
   "execution_count": 5,
   "id": "00793839",
   "metadata": {},
   "outputs": [],
   "source": [
    "## Generate Language specific files\n",
    "# languages = [[\"French\", \"fr\"], [\"German\", \"de\"], [\"Italian\", \"it\"], [\"Japanese\", \"ja\"], [\"Spanish\", \"es\"]]\"\n",
    "languages = [[\"Russian\", \"ru\"]]\n",
    "versions = [\"Abstracts\", \"AIC\", \"FullText\"]\n",
    "files_en = [\"train\", \"test\", \"dev\"]\n",
    "files_tgt = [\"train\", \"test\", \"valid\"]\n",
    "\n",
    "for lang in languages:\n",
    "    for version in versions:\n",
    "        for k in range(len(files_tgt)):\n",
    "            json_data = read_jsonl_files(os.path.join(\"English\", \"jsonl\", version, f\"{files_en[k]}.jsonl\"))\n",
    "            csv_data = read_csv_file(os.path.join(lang[0], \"csv\", version, f\"{files_tgt[k]}-{lang[1]}.csv\"))\n",
    "            generate_jsonl(json_data, csv_data, os.path.join(lang[0], \"jsonl\", version, f\"{files_tgt[k]}-{lang[1]}\"))"
   ]
  },
  {
   "cell_type": "code",
   "execution_count": null,
   "id": "9074a17d",
   "metadata": {},
   "outputs": [],
   "source": []
  }
 ],
 "metadata": {
  "kernelspec": {
   "display_name": "Python 3 (ipykernel)",
   "language": "python",
   "name": "python3"
  },
  "language_info": {
   "codemirror_mode": {
    "name": "ipython",
    "version": 3
   },
   "file_extension": ".py",
   "mimetype": "text/x-python",
   "name": "python",
   "nbconvert_exporter": "python",
   "pygments_lexer": "ipython3",
   "version": "3.9.2"
  }
 },
 "nbformat": 4,
 "nbformat_minor": 5
}
